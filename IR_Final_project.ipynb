{
 "cells": [
  {
   "cell_type": "markdown",
   "metadata": {
    "cell_id": "00000-3a22b422-217f-4377-ac4f-a4938908bb2c",
    "deepnote_cell_type": "text-cell-h1",
    "is_collapsed": false,
    "tags": []
   },
   "source": [
    "# Experiment with Query Expansion Using Word Embeddings for Ad Hoc Search"
   ]
  },
  {
   "cell_type": "markdown",
   "metadata": {
    "cell_id": "00001-e4543d93-276c-4874-91d2-4ec333862d11",
    "deepnote_cell_type": "markdown",
    "tags": []
   },
   "source": [
    "Imports for the project"
   ]
  },
  {
   "cell_type": "code",
   "execution_count": null,
   "metadata": {
    "cell_id": "00000-06510a63-ed4b-41d1-91fe-ccbed11c1c30",
    "deepnote_cell_type": "code",
    "deepnote_to_be_reexecuted": false,
    "execution_millis": 34352,
    "execution_start": 1640373986031,
    "id": "o558GPPfaN1d",
    "source_hash": "b6650ba4"
   },
   "outputs": [],
   "source": [
    "%%capture\n",
    "!pip install pyserini\n",
    "!pip install ir_datasets\n",
    "!pip install gensim\n",
    "!pip install faiss-cpu --no-cache\n",
    "import ir_datasets\n",
    "import gensim\n",
    "from gensim.parsing.preprocessing import remove_stopwords\n",
    "import os\n",
    "import pandas as pd\n",
    "import numpy as np\n",
    "from gensim.models import Word2Vec\n",
    "from multiprocessing import Pool\n",
    "os.environ[\"JAVA_HOME\"] = \"/usr/lib/jvm/java-11-openjdk-amd64\""
   ]
  },
  {
   "cell_type": "markdown",
   "metadata": {
    "cell_id": "00003-ae82eef6-9de6-4201-accc-3587d5b07784",
    "deepnote_cell_type": "markdown",
    "tags": []
   },
   "source": [
    "Download required files for our experiment."
   ]
  },
  {
   "cell_type": "code",
   "execution_count": null,
   "metadata": {
    "cell_id": "00003-8476f3e2-bb06-4b65-b5ae-3be5c8342ed3",
    "deepnote_cell_type": "code",
    "deepnote_to_be_reexecuted": false,
    "execution_millis": 1382,
    "execution_start": 1640371517777,
    "source_hash": "c8ea56af",
    "tags": []
   },
   "outputs": [],
   "source": [
    "# Downloaded qrels\n",
    "!wget -c https://trec.nist.gov/data/robust/qrels.robust2004.txt\n",
    "\n",
    "# Downloaded Google News Word2vec pre-trained model\n",
    "!wget -c \"https://s3.amazonaws.com/dl4j-distribution/GoogleNews-vectors-negative300.bin.gz\"\n",
    "\n",
    "# Unziping Google News Word2vec pre-trained model\n",
    "!gzip -d GoogleNews-vectors-negative300.bin.gz"
   ]
  },
  {
   "cell_type": "markdown",
   "metadata": {
    "cell_id": "00003-9f5e1386-90c6-4738-b2d6-82705f1a69d8",
    "deepnote_cell_type": "markdown",
    "tags": []
   },
   "source": [
    "We downloaded qrels from https://trec.nist.gov/data/t13_robust.html which is used as to test our technique."
   ]
  },
  {
   "cell_type": "code",
   "execution_count": null,
   "metadata": {
    "cell_id": "00001-e56d5180-8668-41d2-920d-e497964c2b4f",
    "deepnote_cell_type": "code",
    "deepnote_to_be_reexecuted": false,
    "execution_millis": 1,
    "execution_start": 1640375043615,
    "id": "Z64cqXNHdjjW",
    "source_hash": "96420c91"
   },
   "outputs": [],
   "source": [
    "# Funcution to get dataframe from txt file for qrels\n",
    "def get_ground_truth():\n",
    "  ground_truth = pd.read_csv('qrels.robust04.txt', sep=\" \", header=None)\n",
    "  ground_truth = ground_truth.rename(columns={0: 'query_id', 2: 'doc_id', 3: 'relevance'})\n",
    "  return ground_truth"
   ]
  },
  {
   "cell_type": "markdown",
   "metadata": {
    "cell_id": "00007-1f48c5a5-0be6-4559-b65a-187439339e17",
    "deepnote_cell_type": "text-cell-h2",
    "is_collapsed": false,
    "tags": []
   },
   "source": [
    "## Load Dataset"
   ]
  },
  {
   "cell_type": "code",
   "execution_count": null,
   "metadata": {
    "cell_id": "00002-ef36be09-4c92-4011-9ba7-32cbc168876d",
    "deepnote_cell_type": "code",
    "deepnote_to_be_reexecuted": false,
    "execution_millis": 212,
    "execution_start": 1640375046408,
    "id": "AGv_ieemaUw3",
    "source_hash": "5f7748e"
   },
   "outputs": [],
   "source": [
    "dataset = ir_datasets.load(\"trec-robust04\")\n",
    "query_df = pd.DataFrame(dataset.queries_iter())\n",
    "score_df = get_ground_truth()\n",
    "\n",
    "# Replacing relevance 2 to 1\n",
    "score_df['relevance'] = score_df['relevance'].replace(2, 1)"
   ]
  },
  {
   "cell_type": "markdown",
   "metadata": {
    "cell_id": "00009-03600b67-5d41-4498-b6d1-d44f15858c82",
    "deepnote_cell_type": "text-cell-h2",
    "is_collapsed": false,
    "tags": []
   },
   "source": [
    "## Pre-processing"
   ]
  },
  {
   "cell_type": "code",
   "execution_count": null,
   "metadata": {
    "cell_id": "00003-e988da77-22f0-461a-8d94-f96e534a2aaf",
    "deepnote_cell_type": "code",
    "deepnote_to_be_reexecuted": false,
    "execution_millis": 3,
    "execution_start": 1640374044932,
    "id": "zYh5aUPzae8H",
    "source_hash": "53241860"
   },
   "outputs": [],
   "source": [
    "# Pre-processing title for expansion\n",
    "query_df[\"title\"] = query_df.title.apply(remove_stopwords)\n",
    "query_df[\"query_exp_title\"] = query_df.title.apply(gensim.utils.simple_preprocess)"
   ]
  },
  {
   "cell_type": "code",
   "execution_count": null,
   "metadata": {
    "cell_id": "00004-0d9ffb15-4257-4f8d-8fa8-b89cac5496a1",
    "deepnote_cell_type": "code",
    "deepnote_to_be_reexecuted": false,
    "execution_millis": 14,
    "execution_start": 1640374045627,
    "id": "PWXQ_x7qLUFe",
    "source_hash": "295b22cf"
   },
   "outputs": [],
   "source": [
    "# Pre-processing title for expansion and description\n",
    "query_df[\"soup\"] = query_df[\"title\"] + ' ' + query_df[\"description\"]\n",
    "query_df[\"soup\"] = query_df.soup.apply(remove_stopwords)\n",
    "query_df[\"query_exp_title_description\"] = query_df.soup.apply(gensim.utils.simple_preprocess)"
   ]
  },
  {
   "cell_type": "code",
   "execution_count": null,
   "metadata": {
    "cell_id": "00005-ac2a0a0a-6872-49b2-b038-9ec407e3d6f7",
    "deepnote_cell_type": "code",
    "deepnote_to_be_reexecuted": false,
    "execution_millis": 1,
    "execution_start": 1640374046405,
    "id": "AUSK5Q6BL0fX",
    "source_hash": "901f7716"
   },
   "outputs": [],
   "source": [
    "# Pre-processing title for expansion, description and narrative\n",
    "query_df[\"soup\"] = query_df[\"title\"] + ' ' + query_df[\"description\"] + ' ' + query_df[\"narrative\"]\n",
    "query_df[\"soup\"] = query_df.soup.apply(remove_stopwords)\n",
    "query_df[\"query_exp_all\"] = query_df.soup.apply(gensim.utils.simple_preprocess)"
   ]
  },
  {
   "cell_type": "markdown",
   "metadata": {
    "cell_id": "00013-853e7fe8-73fa-4036-8236-2c2ad66859b9",
    "deepnote_cell_type": "text-cell-h2",
    "is_collapsed": false,
    "tags": []
   },
   "source": [
    "## Training Model"
   ]
  },
  {
   "cell_type": "code",
   "execution_count": null,
   "metadata": {
    "cell_id": "00006-1d31ed5d-ba60-48cd-b7cc-121a8aad9cdd",
    "deepnote_cell_type": "code",
    "deepnote_to_be_reexecuted": false,
    "execution_millis": 120,
    "execution_start": 1640374048619,
    "id": "fzCZt_YwMAM5",
    "source_hash": "3c503bbc"
   },
   "outputs": [],
   "source": [
    "# setting hyper-parameter\n",
    "size = 100\n",
    "sg = 1\n",
    "window = 2\n",
    "min_count = 1\n",
    "iter = 100\n",
    "workers = Pool()._processes"
   ]
  },
  {
   "cell_type": "code",
   "execution_count": null,
   "metadata": {
    "cell_id": "00007-25682205-86e3-412e-ba72-c5b8f88d9e6d",
    "deepnote_cell_type": "code",
    "deepnote_to_be_reexecuted": false,
    "execution_millis": 488,
    "execution_start": 1640374049838,
    "id": "nedbFle8i6dS",
    "source_hash": "634394a9"
   },
   "outputs": [],
   "source": [
    "#Training model with only title\n",
    "title_vector_model = Word2Vec(sentences = query_df[\"query_exp_title\"], vector_size = size, sg = sg, window = window, min_count = min_count, epochs = iter, workers = workers)\n",
    "title_vector_model.init_sims(replace = True)\n",
    "title_vector_model.save('word2vec_title_vector_model')"
   ]
  },
  {
   "cell_type": "code",
   "execution_count": null,
   "metadata": {
    "cell_id": "00008-f06927c6-a841-4aab-96b8-6011c3769dc7",
    "deepnote_cell_type": "code",
    "deepnote_to_be_reexecuted": false,
    "execution_millis": 1181,
    "execution_start": 1640374051011,
    "id": "3DjlEO_FMOlk",
    "source_hash": "b43e2b5f"
   },
   "outputs": [],
   "source": [
    "#Training model with title and description\n",
    "title_description_vector_model = Word2Vec(sentences = query_df[\"query_exp_title_description\"], vector_size = size, sg = sg, window = window, min_count = min_count, epochs = iter, workers = workers)\n",
    "title_description_vector_model.init_sims(replace = True)\n",
    "title_description_vector_model.save('word2vec_title_description_vector_model')"
   ]
  },
  {
   "cell_type": "code",
   "execution_count": null,
   "metadata": {
    "cell_id": "00009-022c49f0-1c3d-4216-82c2-d849ab9f3d24",
    "deepnote_cell_type": "code",
    "deepnote_to_be_reexecuted": false,
    "execution_millis": 2958,
    "execution_start": 1640374052239,
    "id": "5Q-IMyYQMZoH",
    "source_hash": "236cadff"
   },
   "outputs": [],
   "source": [
    "#Training model with title, description and narrative\n",
    "all_vector_model = Word2Vec(sentences = query_df[\"query_exp_all\"], vector_size = size, sg = sg, window = window, min_count = min_count, epochs = iter, workers = workers)\n",
    "all_vector_model.init_sims(replace = True)\n",
    "all_vector_model.save('word2vec_all_vector_model')"
   ]
  },
  {
   "cell_type": "code",
   "execution_count": null,
   "metadata": {
    "cell_id": "00011-74c3138f-d006-4b0d-b6fc-4c4c222070cf",
    "deepnote_cell_type": "code",
    "deepnote_output_heights": [
     607
    ],
    "deepnote_to_be_reexecuted": false,
    "execution_millis": 34018,
    "execution_start": 1640374056297,
    "id": "SS72DUmmTZ5u",
    "source_hash": "b365ae11"
   },
   "outputs": [],
   "source": [
    "# Loading GoogleNews vector model\n",
    "from gensim import models\n",
    "\n",
    "model = gensim.models.KeyedVectors.load_word2vec_format('GoogleNews-vectors-negative300.bin', binary=True) "
   ]
  },
  {
   "cell_type": "code",
   "execution_count": null,
   "metadata": {
    "cell_id": "00014-35efcf1e-d17a-4a30-b43f-e3c0c158cea5",
    "deepnote_cell_type": "code",
    "deepnote_to_be_reexecuted": true,
    "execution_millis": 42,
    "execution_start": 1640353104289,
    "id": "TMWdK4YnEZ-I",
    "source_hash": "d578e5da"
   },
   "outputs": [],
   "source": [
    "# You can uncomment and test this query epansion method as well to test and play around\n",
    "\n",
    "\n",
    "# from operator import itemgetter\n",
    "# def expand_query(text, model):\n",
    "#   final_query = gensim.utils.simple_preprocess(text)\n",
    "#   token = remove_stopwords(text)\n",
    "#   token = gensim.utils.simple_preprocess(token)\n",
    "#   word_to_add = []\n",
    "#   for t in token:\n",
    "#     if t in model.wv.vocab:\n",
    "#       sim = model.wv.most_similar(t.lower(), topn=5)\n",
    "#       if len(sim) > 0:\n",
    "#         word_to_add.append(sim[0][0])\n",
    "#       if len(sim) > 1:\n",
    "#         word_to_add.append(sim[1][0])\n",
    "#       if len(sim) > 2:\n",
    "#         word_to_add.append(sim[2][0])\n",
    "#       if len(sim) > 3:\n",
    "#         word_to_add.append(sim[3][0])\n",
    "#       if len(sim) > 4:\n",
    "#         word_to_add.append(sim[4][0])\n",
    "\n",
    "#   for o in word_to_add:\n",
    "#     o = o.replace('_', ' ')\n",
    "#     final_query.insert(0, o)\n",
    "\n",
    "#   return ' '.join(final_query)"
   ]
  },
  {
   "cell_type": "markdown",
   "metadata": {
    "cell_id": "00020-5a748a81-dc46-41b4-b4f1-c74e0e4438b9",
    "deepnote_cell_type": "text-cell-h2",
    "is_collapsed": false,
    "tags": []
   },
   "source": [
    "## Query Expansion"
   ]
  },
  {
   "cell_type": "code",
   "execution_count": null,
   "metadata": {
    "cell_id": "00015-82e62b8a-c9ba-4bf2-9105-a7477af5f35e",
    "colab": {
     "base_uri": "https://localhost:8080/"
    },
    "deepnote_cell_type": "code",
    "deepnote_to_be_reexecuted": false,
    "execution_millis": 2878,
    "execution_start": 1640376908890,
    "id": "QqHibGx7jI_V",
    "outputId": "7258da0e-f5b7-43d7-8943-d0d643946791",
    "source_hash": "d499b5c"
   },
   "outputs": [],
   "source": [
    "def expand_query(text, model):\n",
    "  final_query = gensim.utils.simple_preprocess(text)\n",
    "  token = remove_stopwords(text)\n",
    "  token = gensim.utils.simple_preprocess(token)\n",
    "  if str(type(model)) == \"<class 'gensim.models.keyedvectors.KeyedVectors'>\":\n",
    "    dic = list(model.index_to_key)\n",
    "    match_fun = model.most_similar\n",
    "  else:\n",
    "    dic = list(model.wv.index_to_key)\n",
    "    match_fun = model.wv.most_similar\n",
    "  \n",
    "  if token[0].lower() in dic:\n",
    "    first_word = match_fun(token[0].lower())\n",
    "    word_to_add = []\n",
    "    leg = 0\n",
    "    for f,i in first_word:\n",
    "      if i > .1 and leg < 1:\n",
    "        word_to_add.append(f)\n",
    "        leg = leg + 1\n",
    "    for w in word_to_add:\n",
    "      final_query.insert(0, w)\n",
    "\n",
    "  if token[-1].lower() in dic: \n",
    "    last_word = match_fun(token[-1].lower())\n",
    "    ornganl_last = token[-1].lower()\n",
    "    word_to_add = []\n",
    "    leg = 0\n",
    "    for f,i in last_word:\n",
    "      if i > .1 and leg < 1:\n",
    "        word_to_add.append(f)\n",
    "        leg = leg + 1\n",
    "    for w in word_to_add:\n",
    "      final_query.insert(-1, w)\n",
    "  return ' '.join(final_query)\n",
    "\n",
    "query_df['query_exp_title'] = query_df.title.apply(lambda x: expand_query(x, title_vector_model))\n",
    "query_df['query_exp_title_description'] = query_df.title.apply(lambda x: expand_query(x, title_description_vector_model))\n",
    "query_df['query_exp_all'] = query_df.title.apply(lambda x: expand_query(x, all_vector_model))\n",
    "\n",
    "# query_df['query_exp_title_google'] = query_df.title.apply(lambda x: expand_query(x, model))\n",
    "query_df\n"
   ]
  },
  {
   "cell_type": "markdown",
   "metadata": {
    "cell_id": "00022-83e82a35-6a89-44b8-8b31-a6a041ff7e95",
    "deepnote_cell_type": "text-cell-h2",
    "is_collapsed": false,
    "tags": []
   },
   "source": [
    "## Document Ranking "
   ]
  },
  {
   "cell_type": "code",
   "execution_count": null,
   "metadata": {
    "cell_id": "00017-78e1462e-67f4-43e9-9739-766557e50eb8",
    "deepnote_cell_type": "code",
    "deepnote_output_heights": [
     607
    ],
    "deepnote_to_be_reexecuted": false,
    "execution_millis": 60448,
    "execution_start": 1640374485319,
    "id": "etPO3dIpjfqU",
    "source_hash": "1686ae0e"
   },
   "outputs": [],
   "source": [
    "from pyserini.search import SimpleSearcher\n",
    "\n",
    "searcher = SimpleSearcher.from_prebuilt_index('robust04')\n",
    "\n",
    "def get_ranking(dataframe, query):\n",
    "  results = {}\n",
    "  for index, row in dataframe.iterrows():\n",
    "      hits = searcher.search(row[query])\n",
    "      final_hits = []\n",
    "      for i in range(0, min(10, len(hits))):\n",
    "        final_hits.append({'docid': hits[i].docid, 'score': hits[i].score})\n",
    "      results[row['query_id']] = final_hits\n",
    "  return results\n",
    "\n",
    "r_title = get_ranking(query_df, 'query_exp_title')\n",
    "r_title_description = get_ranking(query_df, 'query_exp_title_description')\n",
    "r_title_all = get_ranking(query_df, 'query_exp_all')\n",
    "r_title_title_google = get_ranking(query_df, 'query_exp_title_google')"
   ]
  },
  {
   "cell_type": "markdown",
   "metadata": {
    "cell_id": "00024-ebb81d40-6eac-44e4-b8f2-e5d771a079a5",
    "deepnote_cell_type": "text-cell-h2",
    "is_collapsed": false,
    "tags": []
   },
   "source": [
    "## Result Match"
   ]
  },
  {
   "cell_type": "code",
   "execution_count": null,
   "metadata": {
    "cell_id": "00018-8eef3e60-bf90-4d93-9de1-765457f28f69",
    "deepnote_cell_type": "code",
    "deepnote_output_heights": [
     611
    ],
    "deepnote_to_be_reexecuted": false,
    "execution_millis": 192684,
    "execution_start": 1640375068748,
    "id": "n8j6DN6Gjqe0",
    "source_hash": "e64d6ab4"
   },
   "outputs": [],
   "source": [
    "def get_match(results):\n",
    "  global relevancies\n",
    "  ground_rank = []\n",
    "  for key,value in results.items():\n",
    "    ranks = []\n",
    "    for v in value:\n",
    "      relevance = score_df[(int(score_df['query_id']) == int(key)) & (score_df['doc_id'] == v['docid'])]['relevance']\n",
    "      if relevance.empty:\n",
    "        ranks.append(0)\n",
    "      else:\n",
    "        ranks.append(relevance.values[0])\n",
    "    if len(ranks) != 10:\n",
    "      for i in range(10 - len(ranks)):\n",
    "        ranks.append(0)\n",
    "    ground_rank.append({'query_id':key, 'hits': ranks})\n",
    "  return ground_rank\n",
    "\n",
    "title_result = get_match(r_title)\n",
    "title_description_result = get_match(r_title_description)\n",
    "all_result = get_match(r_title_all)\n",
    "google = get_match(r_title_title_google)\n",
    "# google\n",
    "all_result"
   ]
  },
  {
   "cell_type": "markdown",
   "metadata": {
    "cell_id": "00026-59845d68-f2e3-4465-ab6d-94edc37d63a6",
    "deepnote_cell_type": "text-cell-h2",
    "is_collapsed": false,
    "tags": []
   },
   "source": [
    "## Calculate evaluation metrics"
   ]
  },
  {
   "cell_type": "code",
   "execution_count": null,
   "metadata": {
    "cell_id": "00019-8f03921e-30f2-49a7-96a7-5776dbf6c1fa",
    "deepnote_cell_type": "code",
    "deepnote_to_be_reexecuted": false,
    "execution_millis": 4,
    "execution_start": 1640375271996,
    "id": "l2L3HK-4gorA",
    "source_hash": "1a614a16"
   },
   "outputs": [],
   "source": [
    "def precision(query_relevancy_labels, k):\n",
    "    value = 0\n",
    "    for label in query_relevancy_labels:\n",
    "          value += np.sum(label[:k])\n",
    "    return value/(k*total_query)\n",
    "\n",
    "def recall(query_relevancy_labels, k):\n",
    "    value = 0\n",
    "    for label in query_relevancy_labels:\n",
    "      if np.sum(label):\n",
    "        value += (np.sum(label[:k])/np.sum(label))\n",
    "    return value/total_query\n",
    "\n",
    "def F_score(query_relevancy_labels, k):\n",
    "    value = 0\n",
    "    for label in query_relevancy_labels:\n",
    "      precision_value = precision([label], k)\n",
    "      recall_value = recall([label], k)\n",
    "      sum_of_both = recall_value + precision_value\n",
    "      if sum_of_both:\n",
    "        value += ((2.0*precision_value*recall_value)/sum_of_both)\n",
    "    return value\n",
    "\n",
    "def DCG(query_relevancy_labels, k):\n",
    "    # Use log with base 2\n",
    "    value = 0\n",
    "    for label in query_relevancy_labels:\n",
    "      dcg = 0\n",
    "      for i in range(min(len(label), k)): \n",
    "          if label[i]:\n",
    "            # add 2 because python 0-index\n",
    "            denominator =  np.log2(i + 2) \n",
    "            score = 1/denominator\n",
    "            dcg = dcg + score\n",
    "      value = value + dcg\n",
    "    return value/len(query_relevancy_labels)\n",
    "\n",
    "def NDCG(query_relevancy_labels, k):\n",
    "    ndcg = 0\n",
    "    for label in query_relevancy_labels:\n",
    "      dcg = DCG([label], k)\n",
    "      max_dcg = DCG([sorted(label, reverse=True)], k)\n",
    "      if max_dcg:\n",
    "        ndcg = ndcg + (dcg / max_dcg)\n",
    "    return ndcg/total_query\n",
    "\n",
    "def MAP(query_relevancy_labels):\n",
    "    s = 0\n",
    "    for label in query_relevancy_labels:\n",
    "      top = 0\n",
    "      for i in range(len(label)):\n",
    "        pre = np.sum(label[:(i+1)])/(i+1)\n",
    "        if label[i]:\n",
    "          top = top + pre\n",
    "      if np.sum(label):\n",
    "        s = s + (top/np.sum(label))\n",
    "    return s/total_query\n",
    "\n",
    "def MRR(query_relevancy_labels):\n",
    "    s = 0\n",
    "    for label in query_relevancy_labels:\n",
    "      is_done = 1\n",
    "      for i in range(len(label)):\n",
    "        if label[i] and is_done:\n",
    "          is_done = 0\n",
    "          s = s + (1/(i+1))\n",
    "      \n",
    "    return s/total_query"
   ]
  },
  {
   "cell_type": "code",
   "execution_count": null,
   "metadata": {
    "cell_id": "00020-abfeaf15-eb14-4496-b184-f5d1d8b8bdde",
    "deepnote_cell_type": "code",
    "deepnote_to_be_reexecuted": false,
    "execution_millis": 3,
    "execution_start": 1640375273385,
    "id": "BSTbzZtoOnge",
    "source_hash": "21a39129"
   },
   "outputs": [],
   "source": [
    "def evaluate(result):\n",
    "  global total_query\n",
    "  query_labels = []\n",
    "  for i in result:\n",
    "    query_labels.append(i['hits'])\n",
    "  \n",
    "  total_query = len(query_labels)\n",
    "\n",
    "  return {\n",
    "      'precision@10': precision(query_labels, 10),\n",
    "      'recall@10': recall(query_labels, 10),\n",
    "      'F-score@10': F_score(query_labels, 10),\n",
    "      'DCG@10': DCG(query_labels, 10),\n",
    "      'NDCG@10': NDCG(query_labels, 10),\n",
    "      'MAP': MAP(query_labels),\n",
    "      'MRR': MRR(query_labels)\n",
    "  }"
   ]
  },
  {
   "cell_type": "code",
   "execution_count": null,
   "metadata": {
    "cell_id": "00021-7a937e16-32f3-4a2e-80dc-6e3e36a7b7e9",
    "deepnote_cell_type": "code",
    "deepnote_output_heights": [
     534
    ],
    "deepnote_to_be_reexecuted": false,
    "execution_millis": 150,
    "execution_start": 1640374784025,
    "id": "cfh0_tWSO3kb",
    "source_hash": "9f8a66ba"
   },
   "outputs": [],
   "source": [
    "title_scores = evaluate(title_result)\n",
    "title_description_scores = evaluate(title_description_result)\n",
    "all_score = evaluate(all_result)\n",
    "google_score = evaluate(google)\n",
    "\n",
    "title_scores, title_description_scores, all_score, google_score"
   ]
  },
  {
   "cell_type": "markdown",
   "metadata": {
    "cell_id": "00030-086c38f0-3241-4b76-85bb-c2c5e9aab3d6",
    "deepnote_cell_type": "text-cell-h2",
    "is_collapsed": false,
    "tags": []
   },
   "source": [
    "## Calculate Baseline"
   ]
  },
  {
   "cell_type": "code",
   "execution_count": null,
   "metadata": {
    "cell_id": "00022-309e53f3-e5ac-4dd2-ac4a-8d6a458e291f",
    "deepnote_cell_type": "code",
    "deepnote_to_be_reexecuted": false,
    "execution_millis": 52715,
    "execution_start": 1640375296228,
    "id": "vL4hKMNmhPN5",
    "source_hash": "53b34f1d"
   },
   "outputs": [],
   "source": [
    "def get_expansion_ranking(dataframe, query):\n",
    "  results = {}\n",
    "  searcher.set_rm3(10, 10, 0.5)\n",
    "  for index, row in dataframe.iterrows():\n",
    "      hits = searcher.search(row[query])\n",
    "      final_hits = []\n",
    "      for i in range(0, min(10, len(hits))):\n",
    "        final_hits.append({'docid': hits[i].docid, 'score': hits[i].score})\n",
    "      results[row['query_id']] = final_hits\n",
    "  return results\n",
    "\n",
    "baseline_evaluation = evaluate(get_match(get_expansion_ranking(query_df, 'title')))"
   ]
  },
  {
   "cell_type": "code",
   "execution_count": null,
   "metadata": {},
   "outputs": [],
   "source": [
    "import matplotlib.pyplot as plt\n",
    "%matplotlib inline"
   ]
  },
  {
   "cell_type": "code",
   "execution_count": null,
   "metadata": {},
   "outputs": [],
   "source": [
    "x = baseline_evaluation.keys()\n",
    "y = baseline_evaluation.values()\n",
    "z = title_scores.values()\n",
    "o = title_description_scores.values()\n",
    "\n",
    "X_axis = np.arange(len(x))\n",
    "\n",
    "plt.figure(figsize=(10, 6), dpi=80)\n",
    "\n",
    "plt.xticks(X_axis, x)\n",
    "plt.bar(X_axis-0.2, y, label='Baseline Evaluation', width=0.5)\n",
    "# plt.bar(X_axis+0.3, z, label='QE Evaluation', width=0.5)\n",
    "plt.bar(X_axis+0.3, z, label='TitleQE Evaluation', width=0.5)\n",
    "\n",
    "plt.legend()"
   ]
  },
  {
   "cell_type": "code",
   "execution_count": null,
   "metadata": {},
   "outputs": [],
   "source": [
    "x = baseline_evaluation.keys()\n",
    "y = baseline_evaluation.values()\n",
    "z = title_description_scores.values()\n",
    "\n",
    "X_axis = np.arange(len(x))\n",
    "\n",
    "plt.figure(figsize=(10, 6), dpi=80)\n",
    "\n",
    "plt.xticks(X_axis, x)\n",
    "plt.bar(X_axis-0.2, y, label='Baseline Evaluation', width=0.5)\n",
    "# plt.bar(X_axis+0.3, z, label='QE Evaluation', width=0.5)\n",
    "plt.bar(X_axis+0.3, z, label='Title description QE Evaluation', width=0.5)\n",
    "\n",
    "plt.legend()"
   ]
  },
  {
   "cell_type": "code",
   "execution_count": null,
   "metadata": {
    "cell_id": "00023-6a942e9c-fe87-4a2c-829b-2340c269382e",
    "deepnote_cell_type": "code",
    "deepnote_to_be_reexecuted": false,
    "execution_millis": 282,
    "execution_start": 1640376397171,
    "id": "6gMe0nJraP1H",
    "source_hash": "83741c7f"
   },
   "outputs": [],
   "source": [
    "baseline_evaluation['name'] = 'Without Query Expansion'\n",
    "title_scores['name'] = 'Query Expansion With Title'\n",
    "title_description_scores['name'] = 'Query Expansion With Name and Description'\n",
    "all_score['name'] = 'Query Expansion With Name, Description and Narrasion'\n",
    "google_score['name'] = 'Query Expansion With google'\n",
    "\n",
    "pd.DataFrame([baseline_evaluation, title_scores, title_description_scores, all_score, google_score])"
   ]
  }
 ],
 "metadata": {
  "colab": {
   "collapsed_sections": [],
   "name": "IR_Final_project.ipynb",
   "provenance": []
  },
  "deepnote": {},
  "deepnote_execution_queue": [],
  "deepnote_notebook_id": "d8382583-00b3-469a-84f2-bcd3a760d4cf",
  "kernelspec": {
   "display_name": "Python 3 (ipykernel)",
   "language": "python",
   "name": "python3"
  },
  "language_info": {
   "codemirror_mode": {
    "name": "ipython",
    "version": 3
   },
   "file_extension": ".py",
   "mimetype": "text/x-python",
   "name": "python",
   "nbconvert_exporter": "python",
   "pygments_lexer": "ipython3",
   "version": "3.8.8"
  }
 },
 "nbformat": 4,
 "nbformat_minor": 1
}
